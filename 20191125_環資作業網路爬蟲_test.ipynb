{
 "cells": [
  {
   "cell_type": "code",
   "execution_count": 1,
   "metadata": {},
   "outputs": [],
   "source": [
    "import numpy as np\n",
    "import pandas as pd"
   ]
  },
  {
   "cell_type": "code",
   "execution_count": 2,
   "metadata": {},
   "outputs": [],
   "source": [
    "from bs4 import BeautifulSoup"
   ]
  },
  {
   "cell_type": "code",
   "execution_count": 14,
   "metadata": {},
   "outputs": [],
   "source": [
    "import requests\n",
    "import time"
   ]
  },
  {
   "cell_type": "code",
   "execution_count": 4,
   "metadata": {},
   "outputs": [],
   "source": [
    "url = 'https://www.chinatimes.com/search/韓國瑜?chdtv&page'"
   ]
  },
  {
   "cell_type": "code",
   "execution_count": 5,
   "metadata": {},
   "outputs": [],
   "source": [
    "res = requests.get(url)\n",
    "# print(res.text) #查看抓到的原始碼的長相 (因為很長，這邊就不列出來了)"
   ]
  },
  {
   "cell_type": "code",
   "execution_count": 6,
   "metadata": {},
   "outputs": [],
   "source": [
    "soup = BeautifulSoup(res.text, 'lxml')"
   ]
  },
  {
   "cell_type": "code",
   "execution_count": 7,
   "metadata": {},
   "outputs": [
    {
     "name": "stdout",
     "output_type": "stream",
     "text": [
      "18,035\n"
     ]
    }
   ],
   "source": [
    "count = soup.find('span',{'class':'search-result-count'}).get_text() #看有幾筆資料\n",
    "print(count)"
   ]
  },
  {
   "cell_type": "code",
   "execution_count": 8,
   "metadata": {},
   "outputs": [
    {
     "name": "stdout",
     "output_type": "stream",
     "text": [
      "   title  context  url\n",
      "0      0        0    0\n"
     ]
    }
   ],
   "source": [
    "df = pd.DataFrame({'title':[0] ,'context': [0],'url':[0] }) #創一個表格\n",
    "print(df)"
   ]
  },
  {
   "cell_type": "code",
   "execution_count": 19,
   "metadata": {},
   "outputs": [],
   "source": [
    "for i in range(0,int(np.ceil(25/20))): #np.ceil是無條件進位，先判斷頁數有幾頁，是否需要換頁\n",
    "    url = 'https://www.chinatimes.com/search/韓國瑜?chdtv&page='+str(i+1)\n",
    "    res = requests.get(url) #取得網頁資料\n",
    "    soup = BeautifulSoup(res.text, 'lxml') #將網頁資料存到BeautifulSoup4可以讀取的格式\n",
    "    for context in soup.find_all('div',{'class':'col'}): #從網頁的程式碼中找需要的資料。\n",
    "        df1 = pd.DataFrame({'title':[context.find('h3',{'class':'title'}).get_text()],\n",
    "                            'context':[context.find('p',{'class':'intro'}).get_text()],\n",
    "                            'url':[context.find('a').get('href')]})\n",
    "        df = pd.concat([df,df1],axis=0)\n",
    "        time.sleep(2)"
   ]
  },
  {
   "cell_type": "code",
   "execution_count": 20,
   "metadata": {},
   "outputs": [],
   "source": [
    "df.reset_index(inplace=True) #重設index"
   ]
  },
  {
   "cell_type": "code",
   "execution_count": 21,
   "metadata": {},
   "outputs": [],
   "source": [
    "df.drop([0],axis=0,inplace=True) #把不要的資料欄位移除\n",
    "df.drop(['index'],axis=1,inplace=True)"
   ]
  },
  {
   "cell_type": "code",
   "execution_count": 22,
   "metadata": {},
   "outputs": [
    {
     "data": {
      "text/html": [
       "<div>\n",
       "<style scoped>\n",
       "    .dataframe tbody tr th:only-of-type {\n",
       "        vertical-align: middle;\n",
       "    }\n",
       "\n",
       "    .dataframe tbody tr th {\n",
       "        vertical-align: top;\n",
       "    }\n",
       "\n",
       "    .dataframe thead th {\n",
       "        text-align: right;\n",
       "    }\n",
       "</style>\n",
       "<table border=\"1\" class=\"dataframe\">\n",
       "  <thead>\n",
       "    <tr style=\"text-align: right;\">\n",
       "      <th></th>\n",
       "      <th>title</th>\n",
       "      <th>context</th>\n",
       "      <th>url</th>\n",
       "    </tr>\n",
       "  </thead>\n",
       "  <tbody>\n",
       "    <tr>\n",
       "      <th>1</th>\n",
       "      <td>韓國瑜吮珍奶吐一句話 網驚喊母湯！搶著幫他搖</td>\n",
       "      <td>國民黨總統候選人韓國瑜24日行程滿檔，但仍不忘在社群媒體與網友互動，關心粉絲之餘不忘展露韓式...</td>\n",
       "      <td>https://www.chinatimes.com/realtimenews/201911...</td>\n",
       "    </tr>\n",
       "    <tr>\n",
       "      <th>2</th>\n",
       "      <td>民眾瘋搶韓簽名T恤 最高10萬決標</td>\n",
       "      <td>國民黨總統參選人韓國瑜24日參加嘉義市萌寵音樂嘉年華會，與市長黃敏惠、國民黨立委參選人傅大...</td>\n",
       "      <td>https://www.chinatimes.com/newspapers/20191125...</td>\n",
       "    </tr>\n",
       "    <tr>\n",
       "      <th>3</th>\n",
       "      <td>韓酸綠高高在上 心沒放人民身上</td>\n",
       "      <td>國民黨總統參選人韓國瑜24日在南投與立委許淑華聯合造勢，因小英昨日也在南投，藍營輸人不輸陣...</td>\n",
       "      <td>https://www.chinatimes.com/newspapers/20191125...</td>\n",
       "    </tr>\n",
       "    <tr>\n",
       "      <th>4</th>\n",
       "      <td>權力傲慢 讓小英忘了謙卑</td>\n",
       "      <td>民進黨選前大撒幣，遭質疑執政心虛，不料蔡英文總統一副事不關己，嗆回「心虛的不會是我」。知過...</td>\n",
       "      <td>https://www.chinatimes.com/newspapers/20191125...</td>\n",
       "    </tr>\n",
       "    <tr>\n",
       "      <th>5</th>\n",
       "      <td>誰來為我把真相說明白</td>\n",
       "      <td>4年前，2015年12月，蔡英文總統出席工商團體共同舉辦的「台灣經濟發展論壇－與國家未來領...</td>\n",
       "      <td>https://www.chinatimes.com/newspapers/20191125...</td>\n",
       "    </tr>\n",
       "    <tr>\n",
       "      <th>...</th>\n",
       "      <td>...</td>\n",
       "      <td>...</td>\n",
       "      <td>...</td>\n",
       "    </tr>\n",
       "    <tr>\n",
       "      <th>114</th>\n",
       "      <td>韓國瑜、蔡英文首度造勢拚場 制高點照片曝光</td>\n",
       "      <td>蔡英文總統首度與韓國瑜短兵相接，兩人宣布參選以來，首度在相隔如此近距離造勢，蔡易餘競選總部表...</td>\n",
       "      <td>https://www.chinatimes.com/realtimenews/201911...</td>\n",
       "    </tr>\n",
       "    <tr>\n",
       "      <th>115</th>\n",
       "      <td>韓國瑜：若遇到民進黨 要問「你吃飽了沒？」</td>\n",
       "      <td>國民黨總統參選人韓國瑜24日晚上到嘉義縣水上鄉為國民黨立委參選人王啟澧站台，韓國瑜說，民進黨...</td>\n",
       "      <td>https://www.chinatimes.com/realtimenews/201911...</td>\n",
       "    </tr>\n",
       "    <tr>\n",
       "      <th>116</th>\n",
       "      <td>韓國瑜：政府可以低低在下 為老百姓打拚</td>\n",
       "      <td>國民黨總統參選人韓國瑜，24日在南投成立競選總部時表示，政治人物高高在上是大錯特錯，因為政府...</td>\n",
       "      <td>https://www.chinatimes.com/realtimenews/201911...</td>\n",
       "    </tr>\n",
       "    <tr>\n",
       "      <th>117</th>\n",
       "      <td>韓國瑜一段話 黃暐瀚哽咽談爸爸</td>\n",
       "      <td>韓國瑜日前接受中天電視《新聞深喉嚨》專訪說了一段話，讓黃暐瀚眼眶泛紅哽咽說還蠻有感觸的，也提...</td>\n",
       "      <td>https://www.chinatimes.com/realtimenews/201911...</td>\n",
       "    </tr>\n",
       "    <tr>\n",
       "      <th>118</th>\n",
       "      <td>韓國瑜水上鄉造勢　韓粉自製超大型「一支穿雲箭」引人注目</td>\n",
       "      <td>國民黨總統參選人韓國瑜今晚將在嘉義縣水上鄉水德路上為國民黨立委參選人王啟澧站台，上午來自全台...</td>\n",
       "      <td>https://www.chinatimes.com/realtimenews/201911...</td>\n",
       "    </tr>\n",
       "  </tbody>\n",
       "</table>\n",
       "<p>118 rows × 3 columns</p>\n",
       "</div>"
      ],
      "text/plain": [
       "                           title  \\\n",
       "1         韓國瑜吮珍奶吐一句話 網驚喊母湯！搶著幫他搖   \n",
       "2              民眾瘋搶韓簽名T恤 最高10萬決標   \n",
       "3                韓酸綠高高在上 心沒放人民身上   \n",
       "4                   權力傲慢 讓小英忘了謙卑   \n",
       "5                     誰來為我把真相說明白   \n",
       "..                           ...   \n",
       "114        韓國瑜、蔡英文首度造勢拚場 制高點照片曝光   \n",
       "115        韓國瑜：若遇到民進黨 要問「你吃飽了沒？」   \n",
       "116          韓國瑜：政府可以低低在下 為老百姓打拚   \n",
       "117              韓國瑜一段話 黃暐瀚哽咽談爸爸   \n",
       "118  韓國瑜水上鄉造勢　韓粉自製超大型「一支穿雲箭」引人注目   \n",
       "\n",
       "                                               context  \\\n",
       "1    國民黨總統候選人韓國瑜24日行程滿檔，但仍不忘在社群媒體與網友互動，關心粉絲之餘不忘展露韓式...   \n",
       "2    　國民黨總統參選人韓國瑜24日參加嘉義市萌寵音樂嘉年華會，與市長黃敏惠、國民黨立委參選人傅大...   \n",
       "3    　國民黨總統參選人韓國瑜24日在南投與立委許淑華聯合造勢，因小英昨日也在南投，藍營輸人不輸陣...   \n",
       "4    　民進黨選前大撒幣，遭質疑執政心虛，不料蔡英文總統一副事不關己，嗆回「心虛的不會是我」。知過...   \n",
       "5    　4年前，2015年12月，蔡英文總統出席工商團體共同舉辦的「台灣經濟發展論壇－與國家未來領...   \n",
       "..                                                 ...   \n",
       "114  蔡英文總統首度與韓國瑜短兵相接，兩人宣布參選以來，首度在相隔如此近距離造勢，蔡易餘競選總部表...   \n",
       "115  國民黨總統參選人韓國瑜24日晚上到嘉義縣水上鄉為國民黨立委參選人王啟澧站台，韓國瑜說，民進黨...   \n",
       "116  國民黨總統參選人韓國瑜，24日在南投成立競選總部時表示，政治人物高高在上是大錯特錯，因為政府...   \n",
       "117  韓國瑜日前接受中天電視《新聞深喉嚨》專訪說了一段話，讓黃暐瀚眼眶泛紅哽咽說還蠻有感觸的，也提...   \n",
       "118  國民黨總統參選人韓國瑜今晚將在嘉義縣水上鄉水德路上為國民黨立委參選人王啟澧站台，上午來自全台...   \n",
       "\n",
       "                                                   url  \n",
       "1    https://www.chinatimes.com/realtimenews/201911...  \n",
       "2    https://www.chinatimes.com/newspapers/20191125...  \n",
       "3    https://www.chinatimes.com/newspapers/20191125...  \n",
       "4    https://www.chinatimes.com/newspapers/20191125...  \n",
       "5    https://www.chinatimes.com/newspapers/20191125...  \n",
       "..                                                 ...  \n",
       "114  https://www.chinatimes.com/realtimenews/201911...  \n",
       "115  https://www.chinatimes.com/realtimenews/201911...  \n",
       "116  https://www.chinatimes.com/realtimenews/201911...  \n",
       "117  https://www.chinatimes.com/realtimenews/201911...  \n",
       "118  https://www.chinatimes.com/realtimenews/201911...  \n",
       "\n",
       "[118 rows x 3 columns]"
      ]
     },
     "execution_count": 22,
     "metadata": {},
     "output_type": "execute_result"
    }
   ],
   "source": [
    "df"
   ]
  },
  {
   "cell_type": "code",
   "execution_count": 23,
   "metadata": {},
   "outputs": [],
   "source": [
    "df.to_excel('中時電子報韓國瑜爬蟲結果.xlsx') #輸出資料"
   ]
  },
  {
   "cell_type": "code",
   "execution_count": null,
   "metadata": {},
   "outputs": [],
   "source": []
  }
 ],
 "metadata": {
  "kernelspec": {
   "display_name": "Python 3",
   "language": "python",
   "name": "python3"
  },
  "language_info": {
   "codemirror_mode": {
    "name": "ipython",
    "version": 3
   },
   "file_extension": ".py",
   "mimetype": "text/x-python",
   "name": "python",
   "nbconvert_exporter": "python",
   "pygments_lexer": "ipython3",
   "version": "3.6.9"
  }
 },
 "nbformat": 4,
 "nbformat_minor": 2
}
