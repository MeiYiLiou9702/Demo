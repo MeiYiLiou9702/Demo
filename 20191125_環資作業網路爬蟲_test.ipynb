{
 "cells": [
  {
   "cell_type": "code",
   "execution_count": 1,
   "metadata": {},
   "outputs": [],
   "source": [
    "import numpy as np\n",
    "import pandas as pd"
   ]
  },
  {
   "cell_type": "code",
   "execution_count": 2,
   "metadata": {},
   "outputs": [],
   "source": [
    "from bs4 import BeautifulSoup"
   ]
  },
  {
   "cell_type": "code",
   "execution_count": 3,
   "metadata": {},
   "outputs": [],
   "source": [
    "import requests\n",
    "import time"
   ]
  },
  {
   "cell_type": "code",
   "execution_count": 4,
   "metadata": {},
   "outputs": [],
   "source": [
    "url = 'https://www.chinatimes.com/search/韓國瑜?chdtv&page'"
   ]
  },
  {
   "cell_type": "code",
   "execution_count": 5,
   "metadata": {},
   "outputs": [],
   "source": [
    "res = requests.get(url)\n",
    "# print(res.text) #查看抓到的原始碼的長相 (因為很長，這邊就不列出來了)"
   ]
  },
  {
   "cell_type": "code",
   "execution_count": 6,
   "metadata": {},
   "outputs": [],
   "source": [
    "soup = BeautifulSoup(res.text, 'lxml')"
   ]
  },
  {
   "cell_type": "code",
   "execution_count": 7,
   "metadata": {},
   "outputs": [
    {
     "name": "stdout",
     "output_type": "stream",
     "text": [
      "18035\n"
     ]
    }
   ],
   "source": [
    "count = soup.find('span',{'class':'search-result-count'}).get_text().replace(',','') #看有幾筆資料\n",
    "print(count)"
   ]
  },
  {
   "cell_type": "code",
   "execution_count": 10,
   "metadata": {},
   "outputs": [
    {
     "name": "stdout",
     "output_type": "stream",
     "text": [
      "   title  context  url\n",
      "0      0        0    0\n"
     ]
    }
   ],
   "source": [
    "df = pd.DataFrame({'title':[0] ,'context': [0],'url':[0] }) #創一個表格\n",
    "print(df)"
   ]
  },
  {
   "cell_type": "code",
   "execution_count": 11,
   "metadata": {
    "scrolled": true
   },
   "outputs": [
    {
     "name": "stdout",
     "output_type": "stream",
     "text": [
      "0\n",
      "1\n",
      "2\n",
      "3\n",
      "4\n",
      "5\n",
      "6\n",
      "7\n",
      "8\n",
      "9\n"
     ]
    }
   ],
   "source": [
    "for i in range(0,10): #判斷總頁數有多少可以用：int(np.ceil(int(count)/20)) (np.ceil是無條件進位)，先判斷頁數有幾頁，是否需要換頁 \n",
    "    #但韓總實在太多筆了，我們先爬前十頁就好\n",
    "    url = 'https://www.chinatimes.com/search/韓國瑜?chdtv&page='+str(i+1)\n",
    "    res = requests.get(url) #取得網頁資料\n",
    "    soup = BeautifulSoup(res.text, 'lxml') #將網頁資料存到BeautifulSoup4可以讀取的格式\n",
    "    print(i)\n",
    "    for context in soup.find_all('div',{'class':'col'}): #從網頁的程式碼中找需要的資料。\n",
    "        df1 = pd.DataFrame({'title':[context.find('h3',{'class':'title'}).get_text()],\n",
    "                            'context':[context.find('p',{'class':'intro'}).get_text()],\n",
    "                            'url':[context.find('a').get('href')]})\n",
    "        df = pd.concat([df,df1],axis=0)\n",
    "#         time.sleep(2) #設定停頓時間"
   ]
  },
  {
   "cell_type": "code",
   "execution_count": 12,
   "metadata": {},
   "outputs": [],
   "source": [
    "df.reset_index(inplace=True) #重設index"
   ]
  },
  {
   "cell_type": "code",
   "execution_count": 13,
   "metadata": {},
   "outputs": [],
   "source": [
    "df.drop([0],axis=0,inplace=True) #把不要的資料欄位移除\n",
    "df.drop(['index'],axis=1,inplace=True)"
   ]
  },
  {
   "cell_type": "code",
   "execution_count": null,
   "metadata": {},
   "outputs": [],
   "source": [
    "df"
   ]
  },
  {
   "cell_type": "code",
   "execution_count": null,
   "metadata": {},
   "outputs": [],
   "source": [
    "df.to_excel('中時電子報韓國瑜爬蟲結果.xlsx') #輸出資料"
   ]
  },
  {
   "cell_type": "code",
   "execution_count": null,
   "metadata": {},
   "outputs": [],
   "source": []
  }
 ],
 "metadata": {
  "kernelspec": {
   "display_name": "Python 3",
   "language": "python",
   "name": "python3"
  },
  "language_info": {
   "codemirror_mode": {
    "name": "ipython",
    "version": 3
   },
   "file_extension": ".py",
   "mimetype": "text/x-python",
   "name": "python",
   "nbconvert_exporter": "python",
   "pygments_lexer": "ipython3",
   "version": "3.6.9"
  }
 },
 "nbformat": 4,
 "nbformat_minor": 2
}
