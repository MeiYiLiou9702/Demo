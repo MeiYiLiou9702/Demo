{
 "cells": [
  {
   "cell_type": "code",
   "execution_count": 1,
   "metadata": {},
   "outputs": [],
   "source": [
    "import numpy as np\n",
    "import pandas as pd"
   ]
  },
  {
   "cell_type": "code",
   "execution_count": 2,
   "metadata": {},
   "outputs": [],
   "source": [
    "from bs4 import BeautifulSoup"
   ]
  },
  {
   "cell_type": "code",
   "execution_count": 3,
   "metadata": {},
   "outputs": [],
   "source": [
    "import requests\n",
    "import time"
   ]
  },
  {
   "cell_type": "code",
   "execution_count": 4,
   "metadata": {},
   "outputs": [],
   "source": [
    "url = 'https://www.chinatimes.com/search/韓國瑜?chdtv&page'"
   ]
  },
  {
   "cell_type": "code",
   "execution_count": 5,
   "metadata": {},
   "outputs": [],
   "source": [
    "res = requests.get(url)\n",
    "# print(res.text) #查看抓到的原始碼的長相 (因為很長，這邊就不列出來了)"
   ]
  },
  {
   "cell_type": "code",
   "execution_count": 6,
   "metadata": {},
   "outputs": [],
   "source": [
    "soup = BeautifulSoup(res.text, 'lxml')"
   ]
  },
  {
   "cell_type": "code",
   "execution_count": 7,
   "metadata": {},
   "outputs": [
    {
     "name": "stdout",
     "output_type": "stream",
     "text": [
      "18035\n"
     ]
    }
   ],
   "source": [
    "count = soup.find('span',{'class':'search-result-count'}).get_text().replace(',','') #看有幾筆資料\n",
    "print(count)"
   ]
  },
  {
   "cell_type": "code",
   "execution_count": 10,
   "metadata": {},
   "outputs": [
    {
     "name": "stdout",
     "output_type": "stream",
     "text": [
      "   title  context  url\n",
      "0      0        0    0\n"
     ]
    }
   ],
   "source": [
    "df = pd.DataFrame({'title':[0] ,'context': [0],'url':[0] }) #創一個表格\n",
    "print(df)"
   ]
  },
  {
   "cell_type": "code",
   "execution_count": 11,
   "metadata": {
    "scrolled": true
   },
   "outputs": [
    {
     "name": "stdout",
     "output_type": "stream",
     "text": [
      "0\n",
      "1\n",
      "2\n",
      "3\n",
      "4\n",
      "5\n",
      "6\n",
      "7\n",
      "8\n",
      "9\n"
     ]
    }
   ],
   "source": [
    "for i in range(0,10): #判斷總頁數有多少可以用：int(np.ceil(int(count)/20)) (np.ceil是無條件進位)，先判斷頁數有幾頁，是否需要換頁 \n",
    "    #但韓總實在太多筆了，我們先爬前十頁就好\n",
    "    url = 'https://www.chinatimes.com/search/韓國瑜?chdtv&page='+str(i+1)\n",
    "    res = requests.get(url) #取得網頁資料\n",
    "    soup = BeautifulSoup(res.text, 'lxml') #將網頁資料存到BeautifulSoup4可以讀取的格式\n",
    "    print(i)\n",
    "    for context in soup.find_all('div',{'class':'col'}): #從網頁的程式碼中找需要的資料。\n",
    "        df1 = pd.DataFrame({'title':[context.find('h3',{'class':'title'}).get_text()],\n",
    "                            'context':[context.find('p',{'class':'intro'}).get_text()],\n",
    "                            'url':[context.find('a').get('href')]})\n",
    "        df = pd.concat([df,df1],axis=0)\n",
    "#         time.sleep(2) #設定停頓時間"
   ]
  },
  {
   "cell_type": "code",
   "execution_count": 12,
   "metadata": {},
   "outputs": [],
   "source": [
    "df.reset_index(inplace=True) #重設index"
   ]
  },
  {
   "cell_type": "code",
   "execution_count": 13,
   "metadata": {},
   "outputs": [],
   "source": [
    "df.drop([0],axis=0,inplace=True) #把不要的資料欄位移除\n",
    "df.drop(['index'],axis=1,inplace=True)"
   ]
  },
  {
   "cell_type": "code",
   "execution_count": 14,
   "metadata": {},
   "outputs": [
    {
     "data": {
      "text/html": [
       "<div>\n",
       "<style scoped>\n",
       "    .dataframe tbody tr th:only-of-type {\n",
       "        vertical-align: middle;\n",
       "    }\n",
       "\n",
       "    .dataframe tbody tr th {\n",
       "        vertical-align: top;\n",
       "    }\n",
       "\n",
       "    .dataframe thead th {\n",
       "        text-align: right;\n",
       "    }\n",
       "</style>\n",
       "<table border=\"1\" class=\"dataframe\">\n",
       "  <thead>\n",
       "    <tr style=\"text-align: right;\">\n",
       "      <th></th>\n",
       "      <th>title</th>\n",
       "      <th>context</th>\n",
       "      <th>url</th>\n",
       "    </tr>\n",
       "  </thead>\n",
       "  <tbody>\n",
       "    <tr>\n",
       "      <th>1</th>\n",
       "      <td>狂！韓國瑜一句話嘴爆小英 網：太中肯了</td>\n",
       "      <td>昨日國民黨總統候選人韓國瑜與總統蔡英文兩人在嘉義尬場造勢，兩人會場相隔一公里，較勁意味濃厚，...</td>\n",
       "      <td>https://www.chinatimes.com/realtimenews/201911...</td>\n",
       "    </tr>\n",
       "    <tr>\n",
       "      <th>2</th>\n",
       "      <td>誇張！親綠民調調查 韓國瑜在這點竟大輸蔡英文？</td>\n",
       "      <td>《台灣民意基金會》今日公布最新民調結果，總統蔡英文在支持度上再度以55.2%力壓國民黨總統候...</td>\n",
       "      <td>https://www.chinatimes.com/realtimenews/201911...</td>\n",
       "    </tr>\n",
       "    <tr>\n",
       "      <th>3</th>\n",
       "      <td>韓國瑜吮珍奶吐一句話 網驚喊母湯！搶著幫他搖</td>\n",
       "      <td>國民黨總統候選人韓國瑜24日行程滿檔，但仍不忘在社群媒體與網友互動，關心粉絲之餘不忘展露韓式...</td>\n",
       "      <td>https://www.chinatimes.com/realtimenews/201911...</td>\n",
       "    </tr>\n",
       "    <tr>\n",
       "      <th>4</th>\n",
       "      <td>民眾瘋搶韓簽名T恤 最高10萬決標</td>\n",
       "      <td>國民黨總統參選人韓國瑜24日參加嘉義市萌寵音樂嘉年華會，與市長黃敏惠、國民黨立委參選人傅大...</td>\n",
       "      <td>https://www.chinatimes.com/newspapers/20191125...</td>\n",
       "    </tr>\n",
       "    <tr>\n",
       "      <th>5</th>\n",
       "      <td>韓酸綠高高在上 心沒放人民身上</td>\n",
       "      <td>國民黨總統參選人韓國瑜24日在南投與立委許淑華聯合造勢，因小英昨日也在南投，藍營輸人不輸陣...</td>\n",
       "      <td>https://www.chinatimes.com/newspapers/20191125...</td>\n",
       "    </tr>\n",
       "    <tr>\n",
       "      <th>...</th>\n",
       "      <td>...</td>\n",
       "      <td>...</td>\n",
       "      <td>...</td>\n",
       "    </tr>\n",
       "    <tr>\n",
       "      <th>196</th>\n",
       "      <td>小英買地買房大手筆  1450花錢不手軟</td>\n",
       "      <td>當綠營猛烈攻擊韓國瑜房產，甚至連十年前只是住過的房子都被翻出來，相對之下蔡英文炒房炒地卻都沒...</td>\n",
       "      <td>https://www.chinatimes.com/realtimenews/201911...</td>\n",
       "    </tr>\n",
       "    <tr>\n",
       "      <th>197</th>\n",
       "      <td>傅崐萁參選後果 名嘴直言：非常可怕</td>\n",
       "      <td>力挺國民黨總統候選人韓國瑜的無黨籍前花蓮縣長傅崐萁，確定參選花蓮立委，為選情投下震撼彈！對此...</td>\n",
       "      <td>https://www.chinatimes.com/realtimenews/201911...</td>\n",
       "    </tr>\n",
       "    <tr>\n",
       "      <th>198</th>\n",
       "      <td>24歲站上第一線！年輕正妹吐挺韓心聲</td>\n",
       "      <td>國民黨總統候選人韓國瑜自從投入大選後，就遭到民進黨窮追猛打的抹黑成草包。導致他在年輕族群支...</td>\n",
       "      <td>https://www.chinatimes.com/realtimenews/201911...</td>\n",
       "    </tr>\n",
       "    <tr>\n",
       "      <th>199</th>\n",
       "      <td>羅智強：民進黨不分區名單 更爛</td>\n",
       "      <td>國民黨台北市議員羅智強21日接受「高雄林小姐」訪問時表示，民進黨不分區立委名單，比國民黨更爛...</td>\n",
       "      <td>https://www.chinatimes.com/realtimenews/201911...</td>\n",
       "    </tr>\n",
       "    <tr>\n",
       "      <th>200</th>\n",
       "      <td>韓台中與企業有約 引言人缺席爆玄機</td>\n",
       "      <td>國民黨提名總統參選人韓國瑜22日起展開一連串台中地區行程，上午10點在台中工業區新幹線花園酒...</td>\n",
       "      <td>https://www.chinatimes.com/realtimenews/201911...</td>\n",
       "    </tr>\n",
       "  </tbody>\n",
       "</table>\n",
       "<p>200 rows × 3 columns</p>\n",
       "</div>"
      ],
      "text/plain": [
       "                       title  \\\n",
       "1        狂！韓國瑜一句話嘴爆小英 網：太中肯了   \n",
       "2    誇張！親綠民調調查 韓國瑜在這點竟大輸蔡英文？   \n",
       "3     韓國瑜吮珍奶吐一句話 網驚喊母湯！搶著幫他搖   \n",
       "4          民眾瘋搶韓簽名T恤 最高10萬決標   \n",
       "5            韓酸綠高高在上 心沒放人民身上   \n",
       "..                       ...   \n",
       "196     小英買地買房大手筆  1450花錢不手軟   \n",
       "197        傅崐萁參選後果 名嘴直言：非常可怕   \n",
       "198       24歲站上第一線！年輕正妹吐挺韓心聲   \n",
       "199          羅智強：民進黨不分區名單 更爛   \n",
       "200        韓台中與企業有約 引言人缺席爆玄機   \n",
       "\n",
       "                                               context  \\\n",
       "1    昨日國民黨總統候選人韓國瑜與總統蔡英文兩人在嘉義尬場造勢，兩人會場相隔一公里，較勁意味濃厚，...   \n",
       "2    《台灣民意基金會》今日公布最新民調結果，總統蔡英文在支持度上再度以55.2%力壓國民黨總統候...   \n",
       "3    國民黨總統候選人韓國瑜24日行程滿檔，但仍不忘在社群媒體與網友互動，關心粉絲之餘不忘展露韓式...   \n",
       "4    　國民黨總統參選人韓國瑜24日參加嘉義市萌寵音樂嘉年華會，與市長黃敏惠、國民黨立委參選人傅大...   \n",
       "5    　國民黨總統參選人韓國瑜24日在南投與立委許淑華聯合造勢，因小英昨日也在南投，藍營輸人不輸陣...   \n",
       "..                                                 ...   \n",
       "196  當綠營猛烈攻擊韓國瑜房產，甚至連十年前只是住過的房子都被翻出來，相對之下蔡英文炒房炒地卻都沒...   \n",
       "197  力挺國民黨總統候選人韓國瑜的無黨籍前花蓮縣長傅崐萁，確定參選花蓮立委，為選情投下震撼彈！對此...   \n",
       "198   國民黨總統候選人韓國瑜自從投入大選後，就遭到民進黨窮追猛打的抹黑成草包。導致他在年輕族群支...   \n",
       "199  國民黨台北市議員羅智強21日接受「高雄林小姐」訪問時表示，民進黨不分區立委名單，比國民黨更爛...   \n",
       "200  國民黨提名總統參選人韓國瑜22日起展開一連串台中地區行程，上午10點在台中工業區新幹線花園酒...   \n",
       "\n",
       "                                                   url  \n",
       "1    https://www.chinatimes.com/realtimenews/201911...  \n",
       "2    https://www.chinatimes.com/realtimenews/201911...  \n",
       "3    https://www.chinatimes.com/realtimenews/201911...  \n",
       "4    https://www.chinatimes.com/newspapers/20191125...  \n",
       "5    https://www.chinatimes.com/newspapers/20191125...  \n",
       "..                                                 ...  \n",
       "196  https://www.chinatimes.com/realtimenews/201911...  \n",
       "197  https://www.chinatimes.com/realtimenews/201911...  \n",
       "198  https://www.chinatimes.com/realtimenews/201911...  \n",
       "199  https://www.chinatimes.com/realtimenews/201911...  \n",
       "200  https://www.chinatimes.com/realtimenews/201911...  \n",
       "\n",
       "[200 rows x 3 columns]"
      ]
     },
     "execution_count": 14,
     "metadata": {},
     "output_type": "execute_result"
    }
   ],
   "source": [
    "df"
   ]
  },
  {
   "cell_type": "code",
   "execution_count": 15,
   "metadata": {},
   "outputs": [],
   "source": [
    "df.to_excel('中時電子報韓國瑜爬蟲結果.xlsx') #輸出資料"
   ]
  },
  {
   "cell_type": "code",
   "execution_count": null,
   "metadata": {},
   "outputs": [],
   "source": []
  }
 ],
 "metadata": {
  "kernelspec": {
   "display_name": "Python 3",
   "language": "python",
   "name": "python3"
  },
  "language_info": {
   "codemirror_mode": {
    "name": "ipython",
    "version": 3
   },
   "file_extension": ".py",
   "mimetype": "text/x-python",
   "name": "python",
   "nbconvert_exporter": "python",
   "pygments_lexer": "ipython3",
   "version": "3.6.9"
  }
 },
 "nbformat": 4,
 "nbformat_minor": 2
}
