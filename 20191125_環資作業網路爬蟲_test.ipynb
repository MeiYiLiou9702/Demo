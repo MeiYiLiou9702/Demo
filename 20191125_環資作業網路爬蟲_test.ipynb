{
 "cells": [
  {
   "cell_type": "code",
   "execution_count": 1,
   "metadata": {},
   "outputs": [],
   "source": [
    "import numpy as np\n",
    "import pandas as pd"
   ]
  },
  {
   "cell_type": "code",
   "execution_count": 2,
   "metadata": {},
   "outputs": [],
   "source": [
    "from bs4 import BeautifulSoup"
   ]
  },
  {
   "cell_type": "code",
   "execution_count": 3,
   "metadata": {},
   "outputs": [],
   "source": [
    "import requests"
   ]
  },
  {
   "cell_type": "code",
   "execution_count": 4,
   "metadata": {},
   "outputs": [],
   "source": [
    "url = 'https://www.chinatimes.com/search/擎天崗?chdtv&page'"
   ]
  },
  {
   "cell_type": "code",
   "execution_count": 15,
   "metadata": {},
   "outputs": [],
   "source": [
    "res = requests.get(url)\n",
    "# print(res.text) #查看抓到的原始碼的長相 (因為很長，這邊就不列出來了)"
   ]
  },
  {
   "cell_type": "code",
   "execution_count": 6,
   "metadata": {},
   "outputs": [],
   "source": [
    "soup = BeautifulSoup(res.text, 'lxml')"
   ]
  },
  {
   "cell_type": "code",
   "execution_count": 7,
   "metadata": {},
   "outputs": [
    {
     "name": "stdout",
     "output_type": "stream",
     "text": [
      "25\n"
     ]
    }
   ],
   "source": [
    "count = soup.find('span',{'class':'search-result-count'}).get_text() #看有幾筆資料\n",
    "print(count)"
   ]
  },
  {
   "cell_type": "code",
   "execution_count": 8,
   "metadata": {},
   "outputs": [
    {
     "name": "stdout",
     "output_type": "stream",
     "text": [
      "   title  context  url\n",
      "0      0        0    0\n"
     ]
    }
   ],
   "source": [
    "df = pd.DataFrame({'title':[0] ,'context': [0],'url':[0] }) #創一個表格\n",
    "print(df)"
   ]
  },
  {
   "cell_type": "code",
   "execution_count": 9,
   "metadata": {},
   "outputs": [],
   "source": [
    "for i in range(0,int(np.ceil(25/20))): #np.ceil是無條件進位，先判斷頁數有幾頁，是否需要換頁\n",
    "    url = 'https://www.chinatimes.com/search/擎天崗?chdtv&page='+str(i+1)\n",
    "    res = requests.get(url) #取得網頁資料\n",
    "    soup = BeautifulSoup(res.text, 'lxml') #將網頁資料存到BeautifulSoup4可以讀取的格式\n",
    "    for context in soup.find_all('div',{'class':'col'}): #從網頁的程式碼中找需要的資料。\n",
    "        df1 = pd.DataFrame({'title':[context.find('h3',{'class':'title'}).get_text()],\n",
    "                            'context':[context.find('p',{'class':'intro'}).get_text()],\n",
    "                            'url':[context.find('a').get('href')]})\n",
    "        df = pd.concat([df,df1],axis=0)"
   ]
  },
  {
   "cell_type": "code",
   "execution_count": 10,
   "metadata": {},
   "outputs": [],
   "source": [
    "df.reset_index(inplace=True) #重設index"
   ]
  },
  {
   "cell_type": "code",
   "execution_count": 12,
   "metadata": {},
   "outputs": [],
   "source": [
    "df.drop([0],axis=0,inplace=True) #把不要的資料欄位移除\n",
    "df.drop(['index'],axis=1,inplace=True)"
   ]
  },
  {
   "cell_type": "code",
   "execution_count": 13,
   "metadata": {},
   "outputs": [
    {
     "data": {
      "text/html": [
       "<div>\n",
       "<style scoped>\n",
       "    .dataframe tbody tr th:only-of-type {\n",
       "        vertical-align: middle;\n",
       "    }\n",
       "\n",
       "    .dataframe tbody tr th {\n",
       "        vertical-align: top;\n",
       "    }\n",
       "\n",
       "    .dataframe thead th {\n",
       "        text-align: right;\n",
       "    }\n",
       "</style>\n",
       "<table border=\"1\" class=\"dataframe\">\n",
       "  <thead>\n",
       "    <tr style=\"text-align: right;\">\n",
       "      <th></th>\n",
       "      <th>title</th>\n",
       "      <th>context</th>\n",
       "      <th>url</th>\n",
       "    </tr>\n",
       "  </thead>\n",
       "  <tbody>\n",
       "    <tr>\n",
       "      <th>1</th>\n",
       "      <td>台版撒哈拉沙漠！抓準日落賞沙洲最美</td>\n",
       "      <td>\\r\\n\\r\\n\\r\\n▍頂頭額沙洲\\r\\n\\r\\n被封為「台版撒哈拉沙漠」、「台版絲路」的...</td>\n",
       "      <td>https://www.chinatimes.com/fashion/20190415003...</td>\n",
       "    </tr>\n",
       "    <tr>\n",
       "      <th>2</th>\n",
       "      <td>擎天崗牛隻襲擊遊客 美籍男子等2人受傷</td>\n",
       "      <td>11日下午3時許，一群遊客在擎天崗草原漫步時，在附近放養的野生水牛疑似受驚，朝人群衝撞，混亂...</td>\n",
       "      <td>https://www.chinatimes.com/realtimenews/201808...</td>\n",
       "    </tr>\n",
       "    <tr>\n",
       "      <th>3</th>\n",
       "      <td>擎天崗突起大霧 7外籍生伸手不見五指報警求救</td>\n",
       "      <td>\\r\\n7名外籍男女學生日前相約赴陽明山區擎天崗爬山，卻因錯過末班公車以及山區大霧籠罩迷路，...</td>\n",
       "      <td>https://www.chinatimes.com/realtimenews/201806...</td>\n",
       "    </tr>\n",
       "    <tr>\n",
       "      <th>4</th>\n",
       "      <td>擎天崗野餐趣 大稻埕賞日落</td>\n",
       "      <td>遼闊的擎天崗，據說早在1934年，日本人在此種植了地毯草，當時稱為「大嶺牧場」，至台灣光復...</td>\n",
       "      <td>https://www.chinatimes.com/newspapers/20180317...</td>\n",
       "    </tr>\n",
       "    <tr>\n",
       "      <th>5</th>\n",
       "      <td>不只擎天崗！陽明山打卡秘境TOP3「超夢幻黑森林必訪」</td>\n",
       "      <td>想到陽明山，通常我們第一個想到的都是文化大學後山夜景、擎天崗草原，但真的只有這樣嗎？其實陽明...</td>\n",
       "      <td>https://www.chinatimes.com/realtimenews/201803...</td>\n",
       "    </tr>\n",
       "    <tr>\n",
       "      <th>6</th>\n",
       "      <td>陽明山擎天崗野牛亂來 扯出李登輝取精之秘</td>\n",
       "      <td>陽明山擎天崗草原風景優美，向來是北部民眾喜歡的熱門景點，但近來屢傳攻擊遊客事件，讓陽明山國家...</td>\n",
       "      <td>https://www.chinatimes.com/realtimenews/201802...</td>\n",
       "    </tr>\n",
       "    <tr>\n",
       "      <th>7</th>\n",
       "      <td>登擎天崗天黑濃霧受困  視訊119App報案獲救</td>\n",
       "      <td>台北市消防局25日晚間6時58分接獲警察局轉報，有2位民眾（含1位外籍人士）於士林區擎天崗環...</td>\n",
       "      <td>https://www.chinatimes.com/realtimenews/201801...</td>\n",
       "    </tr>\n",
       "    <tr>\n",
       "      <th>8</th>\n",
       "      <td>笑翻！想閃積水走路邊 下一秒糗「躺」入水</td>\n",
       "      <td>雨下不停！這幾天受到卡努颱風與東北風的共伴效應影響，全台各地降下驚人豪雨量，不少地方都紛紛傳...</td>\n",
       "      <td>https://www.chinatimes.com/hottopic/2017101500...</td>\n",
       "    </tr>\n",
       "    <tr>\n",
       "      <th>9</th>\n",
       "      <td>出動61警消搜救24小時 4名登山客早已返家睡覺</td>\n",
       "      <td>昨天下午2點多，台北市消防局獲報有4名登山客在擎天崗附近失蹤，立即通知志工、警消到場搜救，經...</td>\n",
       "      <td>https://www.chinatimes.com/realtimenews/201707...</td>\n",
       "    </tr>\n",
       "    <tr>\n",
       "      <th>10</th>\n",
       "      <td>警消迷霧救援 迷途登山情侶獲救</td>\n",
       "      <td>31歲謝姓及27歲馮姓一對情侶，昨天下午結伴前往陽明山區爬山，因不熟路況，在擎天崗荷蘭古道迷...</td>\n",
       "      <td>https://www.chinatimes.com/realtimenews/201603...</td>\n",
       "    </tr>\n",
       "    <tr>\n",
       "      <th>11</th>\n",
       "      <td>還我牛! 擎天崗7頭牛疑遭竊</td>\n",
       "      <td>位於陽明山國家公園的擎天崗草原景觀區風景優美，悠遊在草原上的牛更是一大賣點，每到假日總會吸引...</td>\n",
       "      <td>https://www.chinatimes.com/realtimenews/201603...</td>\n",
       "    </tr>\n",
       "    <tr>\n",
       "      <th>12</th>\n",
       "      <td>擎天崗疑出現竊牛大盜 7牛隻不翼而飛</td>\n",
       "      <td>溫馴的神戶牛慵懶的漫步在陽明山擎天崗上，但近日卻疑似成歹徒覬覦的目標，今年初至今已有7牛隻...</td>\n",
       "      <td>https://www.chinatimes.com/realtimenews/201603...</td>\n",
       "    </tr>\n",
       "    <tr>\n",
       "      <th>13</th>\n",
       "      <td>準新郎擎天崗採牛糞上野菇 竟是迷幻菇</td>\n",
       "      <td>國家公園內竟長有吃了會產生幻覺的迷幻魔菇！台北市一名準新郎在陽明山擎天崗發現牛糞上長出許多野...</td>\n",
       "      <td></td>\n",
       "    </tr>\n",
       "    <tr>\n",
       "      <th>14</th>\n",
       "      <td>擎天崗跌傷男尋獲 入溪谷救人</td>\n",
       "      <td>台灣磐石救難隊大隊長曾俊賓今天傍晚表示，陽明山擎天崗失足摔倒男子，已經在深谷中尋獲，晚間將...</td>\n",
       "      <td></td>\n",
       "    </tr>\n",
       "    <tr>\n",
       "      <th>15</th>\n",
       "      <td>爬擎天崗跌傷 救護人員尋獲</td>\n",
       "      <td>33歲張姓男子昨天到陽明山爬山時，打電話向119求救。台北市消防局今天下午尋獲腳受傷男子，...</td>\n",
       "      <td></td>\n",
       "    </tr>\n",
       "    <tr>\n",
       "      <th>16</th>\n",
       "      <td>勇伯扛YouBike 漫步擎天崗</td>\n",
       "      <td>網路上流傳照片，1名老伯扛著YouBike徒步在台北市陽明山擎天崗，被網友大讚「阿伯超猛的...</td>\n",
       "      <td>https://www.chinatimes.com/newspapers/20131120...</td>\n",
       "    </tr>\n",
       "    <tr>\n",
       "      <th>17</th>\n",
       "      <td>吉時去行樂－陽明山太豐富，故事說不完</td>\n",
       "      <td>擎天崗、冷水坑、二子坪、硫磺谷、北投溫泉……，這些熟悉的陽明山景點，你有多久沒去了？你知道...</td>\n",
       "      <td>https://www.chinatimes.com/newspapers/20131012...</td>\n",
       "    </tr>\n",
       "    <tr>\n",
       "      <th>18</th>\n",
       "      <td>北市首都小15公車 中午12點起不上擎天崗</td>\n",
       "      <td>潭美颱風來襲，台北市公共運輸處提醒，台北市部分山區公車，將有所調整，包括首都客運小15路公車...</td>\n",
       "      <td></td>\n",
       "    </tr>\n",
       "    <tr>\n",
       "      <th>19</th>\n",
       "      <td>陸客自由行－擎天崗健行風櫃口 倘佯秋涼意</td>\n",
       "      <td>冷涼初秋，正是登山好時刻，陽明山國家公園各步道也熱鬧了起來，再加上直挺的杉林和芒花，擎天崗...</td>\n",
       "      <td>https://www.chinatimes.com/newspapers/20120929...</td>\n",
       "    </tr>\n",
       "    <tr>\n",
       "      <th>20</th>\n",
       "      <td>Travel陸客自由行－陽金公路100%迷人絕對的放鬆</td>\n",
       "      <td>陽金公路自然景觀一級棒，如果再串連附近景點，讓人絕對放鬆，百分百的迷人。\\r\\n　無論從山...</td>\n",
       "      <td>https://www.chinatimes.com/newspapers/20120421...</td>\n",
       "    </tr>\n",
       "    <tr>\n",
       "      <th>21</th>\n",
       "      <td>擎天崗野牛出沒 別驚擾為上策</td>\n",
       "      <td>知名景點草嶺古道傳出有二頭水牛發狂，三名登山客遭撞傷的意外事件，其實在陽明山擎天崗，也常有...</td>\n",
       "      <td>https://www.chinatimes.com/newspapers/20120315...</td>\n",
       "    </tr>\n",
       "    <tr>\n",
       "      <th>22</th>\n",
       "      <td>自由行看台灣微網誌－擎天崗觀景</td>\n",
       "      <td>＠大餅賣萌：陽明山的擎天崗非常漂亮，景色集合了北方的遼闊和南方的秀美，去台灣絕對不要錯過。莫...</td>\n",
       "      <td>https://www.chinatimes.com/newspapers/20111222...</td>\n",
       "    </tr>\n",
       "    <tr>\n",
       "      <th>23</th>\n",
       "      <td>社會傳真機－擎天崗遇野牛擋道？登山客嚇到</td>\n",
       "      <td>四十九歲的劉姓男子昨天傍晚獨自從擎天崗往風櫃嘴方向登山步行，卻遇到大批野牛擋道圍困，趕緊向一...</td>\n",
       "      <td>https://www.chinatimes.com/newspapers/20111010...</td>\n",
       "    </tr>\n",
       "    <tr>\n",
       "      <th>24</th>\n",
       "      <td>陸客自由行－從冷水坑到擎天崗</td>\n",
       "      <td>冷水坑的「冷水」，指的是「低溫溫泉」，也就是「流著低溫溫泉的坑口」。位於七星山、七股山、竹...</td>\n",
       "      <td>https://www.chinatimes.com/newspapers/20110625...</td>\n",
       "    </tr>\n",
       "    <tr>\n",
       "      <th>25</th>\n",
       "      <td>竹子湖、擎天崗 行程滿檔的特色遊</td>\n",
       "      <td>到陽明山賞花，如果還有空，附近的竹子湖、冷水坑、文化大學、擎天崗等地，都是不錯休閒路線，可...</td>\n",
       "      <td>https://www.chinatimes.com/newspapers/20110317...</td>\n",
       "    </tr>\n",
       "  </tbody>\n",
       "</table>\n",
       "</div>"
      ],
      "text/plain": [
       "                          title  \\\n",
       "1             台版撒哈拉沙漠！抓準日落賞沙洲最美   \n",
       "2           擎天崗牛隻襲擊遊客 美籍男子等2人受傷   \n",
       "3        擎天崗突起大霧 7外籍生伸手不見五指報警求救   \n",
       "4                 擎天崗野餐趣 大稻埕賞日落   \n",
       "5   不只擎天崗！陽明山打卡秘境TOP3「超夢幻黑森林必訪」   \n",
       "6          陽明山擎天崗野牛亂來 扯出李登輝取精之秘   \n",
       "7      登擎天崗天黑濃霧受困  視訊119App報案獲救   \n",
       "8          笑翻！想閃積水走路邊 下一秒糗「躺」入水   \n",
       "9      出動61警消搜救24小時 4名登山客早已返家睡覺   \n",
       "10              警消迷霧救援 迷途登山情侶獲救   \n",
       "11               還我牛! 擎天崗7頭牛疑遭竊   \n",
       "12           擎天崗疑出現竊牛大盜 7牛隻不翼而飛   \n",
       "13           準新郎擎天崗採牛糞上野菇 竟是迷幻菇   \n",
       "14               擎天崗跌傷男尋獲 入溪谷救人   \n",
       "15                爬擎天崗跌傷 救護人員尋獲   \n",
       "16             勇伯扛YouBike 漫步擎天崗   \n",
       "17           吉時去行樂－陽明山太豐富，故事說不完   \n",
       "18        北市首都小15公車 中午12點起不上擎天崗   \n",
       "19         陸客自由行－擎天崗健行風櫃口 倘佯秋涼意   \n",
       "20  Travel陸客自由行－陽金公路100%迷人絕對的放鬆   \n",
       "21               擎天崗野牛出沒 別驚擾為上策   \n",
       "22              自由行看台灣微網誌－擎天崗觀景   \n",
       "23         社會傳真機－擎天崗遇野牛擋道？登山客嚇到   \n",
       "24               陸客自由行－從冷水坑到擎天崗   \n",
       "25             竹子湖、擎天崗 行程滿檔的特色遊   \n",
       "\n",
       "                                              context  \\\n",
       "1   \\r\\n\\r\\n\\r\\n▍頂頭額沙洲\\r\\n\\r\\n被封為「台版撒哈拉沙漠」、「台版絲路」的...   \n",
       "2   11日下午3時許，一群遊客在擎天崗草原漫步時，在附近放養的野生水牛疑似受驚，朝人群衝撞，混亂...   \n",
       "3   \\r\\n7名外籍男女學生日前相約赴陽明山區擎天崗爬山，卻因錯過末班公車以及山區大霧籠罩迷路，...   \n",
       "4   　遼闊的擎天崗，據說早在1934年，日本人在此種植了地毯草，當時稱為「大嶺牧場」，至台灣光復...   \n",
       "5   想到陽明山，通常我們第一個想到的都是文化大學後山夜景、擎天崗草原，但真的只有這樣嗎？其實陽明...   \n",
       "6   陽明山擎天崗草原風景優美，向來是北部民眾喜歡的熱門景點，但近來屢傳攻擊遊客事件，讓陽明山國家...   \n",
       "7   台北市消防局25日晚間6時58分接獲警察局轉報，有2位民眾（含1位外籍人士）於士林區擎天崗環...   \n",
       "8   雨下不停！這幾天受到卡努颱風與東北風的共伴效應影響，全台各地降下驚人豪雨量，不少地方都紛紛傳...   \n",
       "9   昨天下午2點多，台北市消防局獲報有4名登山客在擎天崗附近失蹤，立即通知志工、警消到場搜救，經...   \n",
       "10  31歲謝姓及27歲馮姓一對情侶，昨天下午結伴前往陽明山區爬山，因不熟路況，在擎天崗荷蘭古道迷...   \n",
       "11  位於陽明山國家公園的擎天崗草原景觀區風景優美，悠遊在草原上的牛更是一大賣點，每到假日總會吸引...   \n",
       "12  　溫馴的神戶牛慵懶的漫步在陽明山擎天崗上，但近日卻疑似成歹徒覬覦的目標，今年初至今已有7牛隻...   \n",
       "13  國家公園內竟長有吃了會產生幻覺的迷幻魔菇！台北市一名準新郎在陽明山擎天崗發現牛糞上長出許多野...   \n",
       "14  　台灣磐石救難隊大隊長曾俊賓今天傍晚表示，陽明山擎天崗失足摔倒男子，已經在深谷中尋獲，晚間將...   \n",
       "15  　33歲張姓男子昨天到陽明山爬山時，打電話向119求救。台北市消防局今天下午尋獲腳受傷男子，...   \n",
       "16  　網路上流傳照片，1名老伯扛著YouBike徒步在台北市陽明山擎天崗，被網友大讚「阿伯超猛的...   \n",
       "17  　擎天崗、冷水坑、二子坪、硫磺谷、北投溫泉……，這些熟悉的陽明山景點，你有多久沒去了？你知道...   \n",
       "18  潭美颱風來襲，台北市公共運輸處提醒，台北市部分山區公車，將有所調整，包括首都客運小15路公車...   \n",
       "19  　冷涼初秋，正是登山好時刻，陽明山國家公園各步道也熱鬧了起來，再加上直挺的杉林和芒花，擎天崗...   \n",
       "20  　陽金公路自然景觀一級棒，如果再串連附近景點，讓人絕對放鬆，百分百的迷人。\\r\\n　無論從山...   \n",
       "21  　知名景點草嶺古道傳出有二頭水牛發狂，三名登山客遭撞傷的意外事件，其實在陽明山擎天崗，也常有...   \n",
       "22  ＠大餅賣萌：陽明山的擎天崗非常漂亮，景色集合了北方的遼闊和南方的秀美，去台灣絕對不要錯過。莫...   \n",
       "23  四十九歲的劉姓男子昨天傍晚獨自從擎天崗往風櫃嘴方向登山步行，卻遇到大批野牛擋道圍困，趕緊向一...   \n",
       "24  　冷水坑的「冷水」，指的是「低溫溫泉」，也就是「流著低溫溫泉的坑口」。位於七星山、七股山、竹...   \n",
       "25  　到陽明山賞花，如果還有空，附近的竹子湖、冷水坑、文化大學、擎天崗等地，都是不錯休閒路線，可...   \n",
       "\n",
       "                                                  url  \n",
       "1   https://www.chinatimes.com/fashion/20190415003...  \n",
       "2   https://www.chinatimes.com/realtimenews/201808...  \n",
       "3   https://www.chinatimes.com/realtimenews/201806...  \n",
       "4   https://www.chinatimes.com/newspapers/20180317...  \n",
       "5   https://www.chinatimes.com/realtimenews/201803...  \n",
       "6   https://www.chinatimes.com/realtimenews/201802...  \n",
       "7   https://www.chinatimes.com/realtimenews/201801...  \n",
       "8   https://www.chinatimes.com/hottopic/2017101500...  \n",
       "9   https://www.chinatimes.com/realtimenews/201707...  \n",
       "10  https://www.chinatimes.com/realtimenews/201603...  \n",
       "11  https://www.chinatimes.com/realtimenews/201603...  \n",
       "12  https://www.chinatimes.com/realtimenews/201603...  \n",
       "13                                                     \n",
       "14                                                     \n",
       "15                                                     \n",
       "16  https://www.chinatimes.com/newspapers/20131120...  \n",
       "17  https://www.chinatimes.com/newspapers/20131012...  \n",
       "18                                                     \n",
       "19  https://www.chinatimes.com/newspapers/20120929...  \n",
       "20  https://www.chinatimes.com/newspapers/20120421...  \n",
       "21  https://www.chinatimes.com/newspapers/20120315...  \n",
       "22  https://www.chinatimes.com/newspapers/20111222...  \n",
       "23  https://www.chinatimes.com/newspapers/20111010...  \n",
       "24  https://www.chinatimes.com/newspapers/20110625...  \n",
       "25  https://www.chinatimes.com/newspapers/20110317...  "
      ]
     },
     "execution_count": 13,
     "metadata": {},
     "output_type": "execute_result"
    }
   ],
   "source": [
    "df"
   ]
  },
  {
   "cell_type": "code",
   "execution_count": 14,
   "metadata": {},
   "outputs": [],
   "source": [
    "df.to_excel('中時電子報擎天崗爬蟲結果.xlsx')"
   ]
  },
  {
   "cell_type": "code",
   "execution_count": null,
   "metadata": {},
   "outputs": [],
   "source": []
  }
 ],
 "metadata": {
  "kernelspec": {
   "display_name": "Python 3",
   "language": "python",
   "name": "python3"
  },
  "language_info": {
   "codemirror_mode": {
    "name": "ipython",
    "version": 3
   },
   "file_extension": ".py",
   "mimetype": "text/x-python",
   "name": "python",
   "nbconvert_exporter": "python",
   "pygments_lexer": "ipython3",
   "version": "3.6.9"
  }
 },
 "nbformat": 4,
 "nbformat_minor": 2
}
