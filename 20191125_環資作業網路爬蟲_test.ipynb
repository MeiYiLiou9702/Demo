{
 "cells": [
  {
   "cell_type": "code",
   "execution_count": 1,
   "metadata": {},
   "outputs": [],
   "source": [
    "import numpy as np\n",
    "import pandas as pd"
   ]
  },
  {
   "cell_type": "code",
   "execution_count": 2,
   "metadata": {},
   "outputs": [],
   "source": [
    "from bs4 import BeautifulSoup"
   ]
  },
  {
   "cell_type": "code",
   "execution_count": 3,
   "metadata": {},
   "outputs": [],
   "source": [
    "import requests\n",
    "import time"
   ]
  },
  {
   "cell_type": "code",
   "execution_count": 4,
   "metadata": {},
   "outputs": [],
   "source": [
    "url = 'https://www.chinatimes.com/search/石虎?chdtv'"
   ]
  },
  {
   "cell_type": "code",
   "execution_count": 5,
   "metadata": {},
   "outputs": [],
   "source": [
    "res = requests.get(url)\n",
    "# print(res.text) #查看抓到的原始碼的長相 (因為很長，這邊就不列出來了)"
   ]
  },
  {
   "cell_type": "code",
   "execution_count": 6,
   "metadata": {},
   "outputs": [],
   "source": [
    "soup = BeautifulSoup(res.text, 'lxml')"
   ]
  },
  {
   "cell_type": "code",
   "execution_count": 7,
   "metadata": {},
   "outputs": [
    {
     "name": "stdout",
     "output_type": "stream",
     "text": [
      "473\n"
     ]
    }
   ],
   "source": [
    "count = soup.find('span',{'class':'search-result-count'}).get_text().replace(',','') #看有幾筆資料\n",
    "print(count)"
   ]
  },
  {
   "cell_type": "code",
   "execution_count": 8,
   "metadata": {},
   "outputs": [
    {
     "name": "stdout",
     "output_type": "stream",
     "text": [
      "   title  context  url\n",
      "0      0        0    0\n"
     ]
    }
   ],
   "source": [
    "df = pd.DataFrame({'title':[0] ,'context': [0],'url':[0] }) #創一個表格\n",
    "print(df)"
   ]
  },
  {
   "cell_type": "code",
   "execution_count": 9,
   "metadata": {
    "scrolled": true
   },
   "outputs": [
    {
     "name": "stdout",
     "output_type": "stream",
     "text": [
      "0\n",
      "1\n",
      "2\n",
      "3\n",
      "4\n",
      "5\n",
      "6\n",
      "7\n",
      "8\n",
      "9\n",
      "10\n",
      "11\n",
      "12\n",
      "13\n",
      "14\n",
      "15\n",
      "16\n",
      "17\n",
      "18\n",
      "19\n",
      "20\n",
      "21\n",
      "22\n",
      "23\n"
     ]
    }
   ],
   "source": [
    "for i in range(0,int(np.ceil(int(count)/20))): #判斷總頁數有多少可以用：int(np.ceil(int(count)/20)) (np.ceil是無條件進位)，先判斷頁數有幾頁，是否需要換頁\n",
    "    url = 'https://www.chinatimes.com/search/石虎?chdtv&page='+str(i+1)\n",
    "    res = requests.get(url) #取得網頁資料\n",
    "    soup = BeautifulSoup(res.text, 'lxml') #將網頁資料存到BeautifulSoup4可以讀取的格式\n",
    "    print(i)\n",
    "    for context in soup.find_all('div',{'class':'col'}): #從網頁的程式碼中找需要的資料。\n",
    "        df1 = pd.DataFrame({'title':[context.find('h3',{'class':'title'}).get_text()],\n",
    "                            'context':[context.find('p',{'class':'intro'}).get_text()],\n",
    "                            'url':[context.find('a').get('href')]})\n",
    "        df = pd.concat([df,df1],axis=0)\n",
    "#         time.sleep(2) #設定停頓時間"
   ]
  },
  {
   "cell_type": "code",
   "execution_count": 10,
   "metadata": {},
   "outputs": [],
   "source": [
    "df.reset_index(inplace=True) #重設index"
   ]
  },
  {
   "cell_type": "code",
   "execution_count": 11,
   "metadata": {},
   "outputs": [],
   "source": [
    "df.drop([0],axis=0,inplace=True) #把不要的資料欄位移除\n",
    "df.drop(['index'],axis=1,inplace=True)"
   ]
  },
  {
   "cell_type": "code",
   "execution_count": 12,
   "metadata": {},
   "outputs": [
    {
     "data": {
      "text/html": [
       "<div>\n",
       "<style scoped>\n",
       "    .dataframe tbody tr th:only-of-type {\n",
       "        vertical-align: middle;\n",
       "    }\n",
       "\n",
       "    .dataframe tbody tr th {\n",
       "        vertical-align: top;\n",
       "    }\n",
       "\n",
       "    .dataframe thead th {\n",
       "        text-align: right;\n",
       "    }\n",
       "</style>\n",
       "<table border=\"1\" class=\"dataframe\">\n",
       "  <thead>\n",
       "    <tr style=\"text-align: right;\">\n",
       "      <th></th>\n",
       "      <th>title</th>\n",
       "      <th>context</th>\n",
       "      <th>url</th>\n",
       "    </tr>\n",
       "  </thead>\n",
       "  <tbody>\n",
       "    <tr>\n",
       "      <th>1</th>\n",
       "      <td>辨別石虎7字訣 野外看見這機器快閃</td>\n",
       "      <td>苗栗縣為石虎主要分布區，隨著保育觀念提升，民眾漸可分別貓與石虎的差異，為加強辨識與通報觀念，...</td>\n",
       "      <td>https://www.chinatimes.com/realtimenews/201911...</td>\n",
       "    </tr>\n",
       "    <tr>\n",
       "      <th>2</th>\n",
       "      <td>台13線14年奪17條人命 苗縣議員籲保育不能無限上綱</td>\n",
       "      <td>台13線44到46公里銅鑼至三義路段，因路幅窄，上下坡設計，沿途彎道多，造成車禍頻傳，縣議員...</td>\n",
       "      <td>https://www.chinatimes.com/realtimenews/201911...</td>\n",
       "    </tr>\n",
       "    <tr>\n",
       "      <th>3</th>\n",
       "      <td>研議公開石虎調查成果　再擬動保條例完善保育工作</td>\n",
       "      <td>苗栗縣政府執行石虎族群調查計畫，目前已放置120個監測照相機，預計明年2、3月可望取得初步...</td>\n",
       "      <td>https://www.chinatimes.com/realtimenews/201911...</td>\n",
       "    </tr>\n",
       "    <tr>\n",
       "      <th>4</th>\n",
       "      <td>石虎站長邀約逛集集！小火車、香蕉、冰淇淋好吃也好玩</td>\n",
       "      <td>今年是921地震20周年，那天規模7.3強震搖醒全台，地震造成2400人死亡，其中又以震央南...</td>\n",
       "      <td>https://www.chinatimes.com/realtimenews/201911...</td>\n",
       "    </tr>\n",
       "    <tr>\n",
       "      <th>5</th>\n",
       "      <td>全苗栗第22隻 石虎又遭路殺</td>\n",
       "      <td>苗130線苑裡路段2日發生第3起路殺事件，苗栗縣農業處當日下午接獲民眾通報，在130線與苗...</td>\n",
       "      <td>https://www.chinatimes.com/newspapers/20191116...</td>\n",
       "    </tr>\n",
       "    <tr>\n",
       "      <th>...</th>\n",
       "      <td>...</td>\n",
       "      <td>...</td>\n",
       "      <td>...</td>\n",
       "    </tr>\n",
       "    <tr>\n",
       "      <th>469</th>\n",
       "      <td>2石虎現身通霄 惜成輪下亡魂</td>\n",
       "      <td>繼苗栗縣三義鄉火炎山自然保留區發現瀕臨絕種的台灣石虎後，自然生態學會總幹事洪維鋒日前通報縣...</td>\n",
       "      <td>https://www.chinatimes.com/newspapers/20120315...</td>\n",
       "    </tr>\n",
       "    <tr>\n",
       "      <th>470</th>\n",
       "      <td>寵物豹貓愛玩水 比家貓大一倍</td>\n",
       "      <td>什麼？一隻貓要十八萬元！台東寵物業者花費鉅資引進寵物貓市場中的旗艦級「豹貓」進行繁殖，路過...</td>\n",
       "      <td>https://www.chinatimes.com/newspapers/20110818...</td>\n",
       "    </tr>\n",
       "    <tr>\n",
       "      <th>471</th>\n",
       "      <td>保護台灣石虎 苗50線拓寬喊停</td>\n",
       "      <td>苗五十線苑裡、三義段拓寬工程，有破壞珍貴的台灣石虎棲息地之虞，引起自然生態學會等有關單位關...</td>\n",
       "      <td>https://www.chinatimes.com/newspapers/20101218...</td>\n",
       "    </tr>\n",
       "    <tr>\n",
       "      <th>472</th>\n",
       "      <td>苗栗山區追蹤 石虎身世解謎</td>\n",
       "      <td>日本北海道大學教授增田隆一，在林務及學術單位人員陪同下，相繼走訪苗栗縣通霄、銅鑼、三義、大...</td>\n",
       "      <td>https://www.chinatimes.com/newspapers/20101204...</td>\n",
       "    </tr>\n",
       "    <tr>\n",
       "      <th>473</th>\n",
       "      <td>架高妻躲大水 夫為穩住桌椅溺斃</td>\n",
       "      <td>上月凡那比颱風水淹岡山白米里，六十三歲男子張石虎將精神障礙妻子架高躲避大水，自己卻不幸溺死...</td>\n",
       "      <td>https://www.chinatimes.com/newspapers/20101007...</td>\n",
       "    </tr>\n",
       "  </tbody>\n",
       "</table>\n",
       "<p>473 rows × 3 columns</p>\n",
       "</div>"
      ],
      "text/plain": [
       "                           title  \\\n",
       "1              辨別石虎7字訣 野外看見這機器快閃   \n",
       "2    台13線14年奪17條人命 苗縣議員籲保育不能無限上綱   \n",
       "3        研議公開石虎調查成果　再擬動保條例完善保育工作   \n",
       "4      石虎站長邀約逛集集！小火車、香蕉、冰淇淋好吃也好玩   \n",
       "5                 全苗栗第22隻 石虎又遭路殺   \n",
       "..                           ...   \n",
       "469               2石虎現身通霄 惜成輪下亡魂   \n",
       "470               寵物豹貓愛玩水 比家貓大一倍   \n",
       "471              保護台灣石虎 苗50線拓寬喊停   \n",
       "472                苗栗山區追蹤 石虎身世解謎   \n",
       "473              架高妻躲大水 夫為穩住桌椅溺斃   \n",
       "\n",
       "                                               context  \\\n",
       "1    苗栗縣為石虎主要分布區，隨著保育觀念提升，民眾漸可分別貓與石虎的差異，為加強辨識與通報觀念，...   \n",
       "2    台13線44到46公里銅鑼至三義路段，因路幅窄，上下坡設計，沿途彎道多，造成車禍頻傳，縣議員...   \n",
       "3    　苗栗縣政府執行石虎族群調查計畫，目前已放置120個監測照相機，預計明年2、3月可望取得初步...   \n",
       "4    今年是921地震20周年，那天規模7.3強震搖醒全台，地震造成2400人死亡，其中又以震央南...   \n",
       "5    　苗130線苑裡路段2日發生第3起路殺事件，苗栗縣農業處當日下午接獲民眾通報，在130線與苗...   \n",
       "..                                                 ...   \n",
       "469  　繼苗栗縣三義鄉火炎山自然保留區發現瀕臨絕種的台灣石虎後，自然生態學會總幹事洪維鋒日前通報縣...   \n",
       "470  　什麼？一隻貓要十八萬元！台東寵物業者花費鉅資引進寵物貓市場中的旗艦級「豹貓」進行繁殖，路過...   \n",
       "471  　苗五十線苑裡、三義段拓寬工程，有破壞珍貴的台灣石虎棲息地之虞，引起自然生態學會等有關單位關...   \n",
       "472  　日本北海道大學教授增田隆一，在林務及學術單位人員陪同下，相繼走訪苗栗縣通霄、銅鑼、三義、大...   \n",
       "473  　上月凡那比颱風水淹岡山白米里，六十三歲男子張石虎將精神障礙妻子架高躲避大水，自己卻不幸溺死...   \n",
       "\n",
       "                                                   url  \n",
       "1    https://www.chinatimes.com/realtimenews/201911...  \n",
       "2    https://www.chinatimes.com/realtimenews/201911...  \n",
       "3    https://www.chinatimes.com/realtimenews/201911...  \n",
       "4    https://www.chinatimes.com/realtimenews/201911...  \n",
       "5    https://www.chinatimes.com/newspapers/20191116...  \n",
       "..                                                 ...  \n",
       "469  https://www.chinatimes.com/newspapers/20120315...  \n",
       "470  https://www.chinatimes.com/newspapers/20110818...  \n",
       "471  https://www.chinatimes.com/newspapers/20101218...  \n",
       "472  https://www.chinatimes.com/newspapers/20101204...  \n",
       "473  https://www.chinatimes.com/newspapers/20101007...  \n",
       "\n",
       "[473 rows x 3 columns]"
      ]
     },
     "execution_count": 12,
     "metadata": {},
     "output_type": "execute_result"
    }
   ],
   "source": [
    "df"
   ]
  },
  {
   "cell_type": "code",
   "execution_count": 13,
   "metadata": {},
   "outputs": [],
   "source": [
    "df.to_excel('中時電子報韓國瑜石虎結果.xlsx') #輸出資料"
   ]
  },
  {
   "cell_type": "code",
   "execution_count": null,
   "metadata": {},
   "outputs": [],
   "source": []
  }
 ],
 "metadata": {
  "kernelspec": {
   "display_name": "Python 3",
   "language": "python",
   "name": "python3"
  },
  "language_info": {
   "codemirror_mode": {
    "name": "ipython",
    "version": 3
   },
   "file_extension": ".py",
   "mimetype": "text/x-python",
   "name": "python",
   "nbconvert_exporter": "python",
   "pygments_lexer": "ipython3",
   "version": "3.6.9"
  }
 },
 "nbformat": 4,
 "nbformat_minor": 2
}
